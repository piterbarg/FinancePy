{
   "cells": [
      {
         "cell_type": "markdown",
         "metadata": {},
         "source": [
            "# Building a Euribor Curve - Interpolation Analysis - Simple Case"
         ]
      },
      {
         "cell_type": "markdown",
         "metadata": {},
         "source": [
            "We build an Ibor single-curve and examine different interpolation choices for a simple curve.\n",
            "\n",
            "This follows:\n",
            "\n",
            "https://quant.stackexchange.com/questions/53904/monotonic-cubic-spline-interpolation-quantlib-python?rq=1"
         ]
      },
      {
         "cell_type": "code",
         "execution_count": null,
         "metadata": {},
         "outputs": [],
         "source": [
            "%load_ext autoreload\n",
            "%autoreload 2"
         ]
      },
      {
         "cell_type": "code",
         "execution_count": null,
         "metadata": {},
         "outputs": [],
         "source": [
            "import numpy as np\n",
            "import matplotlib.pyplot as plt"
         ]
      },
      {
         "cell_type": "code",
         "execution_count": null,
         "metadata": {},
         "outputs": [],
         "source": [
            "from financepy.utils import *\n",
            "from financepy.products.rates import *"
         ]
      },
      {
         "cell_type": "code",
         "execution_count": null,
         "metadata": {},
         "outputs": [],
         "source": [
            "value_dt = Date(12, 5, 2020)"
         ]
      },
      {
         "cell_type": "markdown",
         "metadata": {},
         "source": [
            "## Building the Single Curve"
         ]
      },
      {
         "cell_type": "markdown",
         "metadata": {},
         "source": [
            "Build the Ibor Curve"
         ]
      },
      {
         "cell_type": "code",
         "execution_count": null,
         "metadata": {},
         "outputs": [],
         "source": [
            "cal = CalendarTypes.TARGET\n",
            "\n",
            "depoDCCType = DayCountTypes.ACT_360\n",
            "depos = []\n",
            "spot_days = 0\n",
            "settle_dt = value_dt.add_weekdays(spot_days)\n",
            "depo = IborDeposit(settle_dt, \"6M\", -0.114/100.0, depoDCCType, cal_type=cal); depos.append(depo)\n",
            "fraDCCType = DayCountTypes.ACT_360\n",
            "\n",
            "fras = []\n",
            "fra = IborFRA(settle_dt.add_tenor(\"6M\"), \"6M\", -0.252/100.0, fraDCCType, cal_type=cal); fras.append(fra)\n",
            "fra = IborFRA(settle_dt.add_tenor(\"12M\"), \"6M\", -0.306/100.0, fraDCCType, cal_type=cal); fras.append(fra)\n",
            "\n",
            "swaps = []\n",
            "swap_type = SwapTypes.PAY\n",
            "fixed_dcc_type = DayCountTypes.THIRTY_E_360_ISDA\n",
            "fixedFreqType = FrequencyTypes.ANNUAL\n",
            "\n",
            "swap = IborSwap(settle_dt, \"2Y\", swap_type, -0.325/100.0, fixedFreqType, fixed_dcc_type, cal_type=cal); swaps.append(swap)\n",
            "swap = IborSwap(settle_dt, \"3Y\", swap_type, -0.347/100.0, fixedFreqType, fixed_dcc_type, cal_type=cal); swaps.append(swap)\n",
            "\n",
            "iborDepos = depos.copy()\n",
            "iborFras = fras.copy()\n",
            "ibor_swaps = swaps.copy()"
         ]
      },
      {
         "cell_type": "code",
         "execution_count": null,
         "metadata": {},
         "outputs": [],
         "source": [
            "check_refit = True\n",
            "iborCurves = {}\n",
            "for interp_type in InterpTypes:\n",
            "    optional_interp_params = {'sigma' : 10} \n",
            "    iborCurve = IborSingleCurve(valuation_date, iborDepos, iborFras, ibor_swaps, interp_type, check_refit=check_refit, **optional_interp_params)\n",
            "    iborCurves[interp_type] = iborCurve"
         ]
      },
      {
         "cell_type": "markdown",
         "metadata": {},
         "source": [
            "Set up a list of dates"
         ]
      },
      {
         "cell_type": "code",
         "execution_count": null,
         "metadata": {},
         "outputs": [],
         "source": [
            "grid_dts = []\n",
            "dt = Date(12, 5, 2020); grid_dts.append(dt)\n",
            "dt = dt.add_tenor(\"6M\"); grid_dts.append(dt)\n",
            "dt = dt.add_tenor(\"6M\"); grid_dts.append(dt)\n",
            "dt = dt.add_tenor(\"6M\"); grid_dts.append(dt)\n",
            "dt = dt.add_tenor(\"6M\"); grid_dts.append(dt)\n",
            "dt = dt.add_tenor(\"12M\"); grid_dts.append(dt)"
         ]
      },
      {
         "cell_type": "code",
         "execution_count": null,
         "metadata": {},
         "outputs": [],
         "source": [
            "print(\"              \", end=\"\")\n",
            "\n",
            "for interp in InterpTypes:\n",
            "    print(\"%13s \"% interp.name[0:15], end=\"\")\n",
            "print(\"\")\n",
            "    \n",
            "for dt in grid_dts:\n",
            "    print(\"%12s\"% dt, end=\"\")\n",
            "    for interp in InterpTypes:\n",
            "        iborCurve = iborCurves[interp]\n",
            "        df = iborCurve.df(dt) / iborCurve.df(settle_dt)\n",
            "        print(\"%15.7f \"% (df), end=\"\")\n",
            "    print(\"\")"
         ]
      },
      {
         "cell_type": "markdown",
         "metadata": {},
         "source": [
            "This agrees perfectly with QL."
         ]
      },
      {
         "cell_type": "markdown",
         "metadata": {},
         "source": [
            "Now shift the dates and you see the different impact of the different interpolation schemes."
         ]
      },
      {
         "cell_type": "code",
         "execution_count": null,
         "metadata": {},
         "outputs": [],
         "source": [
            "shiftedDates = []\n",
            "for dt in grid_dts:\n",
            "    shiftedDates.append(dt.add_tenor(\"15D\"))"
         ]
      },
      {
         "cell_type": "code",
         "execution_count": null,
         "metadata": {},
         "outputs": [],
         "source": [
            "print(\"              \", end=\"\")\n",
            "\n",
            "for interp in InterpTypes:\n",
            "    print(\"%8s \"% interp.name[0:13], end=\"\")\n",
            "print(\"\")\n",
            "    \n",
            "for dt in shiftedDates:\n",
            "    print(\"%8s \"% dt, end=\"\")\n",
            "    for interp in InterpTypes:\n",
            "        iborCurve = iborCurves[interp]\n",
            "        df = iborCurve.df(dt) / iborCurve.df(settle_dt)\n",
            "        print(\"%12.6f \"% (df), end=\"\")\n",
            "    print(\"\")"
         ]
      },
      {
         "cell_type": "markdown",
         "metadata": {},
         "source": [
            "This shows that the interpolations do not match once we are off the grid times."
         ]
      },
      {
         "cell_type": "markdown",
         "metadata": {},
         "source": [
            "## Curve Shape Analysis"
         ]
      },
      {
         "cell_type": "markdown",
         "metadata": {},
         "source": [
            "Look at short end"
         ]
      },
      {
         "cell_type": "code",
         "execution_count": null,
         "metadata": {
            "execution": {
               "iopub.execute_input": "2024-04-30T20:23:19.242972Z",
               "iopub.status.busy": "2024-04-30T20:23:19.242972Z",
               "iopub.status.idle": "2024-04-30T20:23:22.374998Z",
               "shell.execute_reply": "2024-04-30T20:23:22.374998Z"
            },
            "scrolled": false
         },
         "outputs": [],
         "source": [
            "years = np.linspace(0.1, 3, 1000)\n",
            "plotDates = settle_dt.add_years(years)\n",
            "\n",
            "for interp_type in InterpTypes:\n",
            "\n",
            "    plt.figure(figsize=(8,5))\n",
            "    iborCurve = iborCurves[interp_type]\n",
            "    iborCurveFwdRate = iborCurve.fwd_rate(plotDates, \"1D\")\n",
            "    iborCurveZeroRate = iborCurve.zero_rate(plotDates)\n",
            "    iborCurveSwapRate = iborCurve.swap_rate(settle_dt, plotDates)\n",
            "    \n",
            "    plt.plot(years, iborCurveFwdRate*100.0, label=\"FWD RATE\")\n",
            "    plt.plot(years, iborCurveZeroRate*100.0, label=\"ZERO RATE\")\n",
            "    plt.plot(years, iborCurveSwapRate*100.0, label=\"SWAP RATE\")\n",
            "\n",
            "    plt.title(interp_type.name)\n",
            "    plt.xlabel(\"Years\")\n",
            "    plt.ylabel(\"Rate (%)\")\n",
            "    plt.legend();"
         ]
      },
      {
         "cell_type": "markdown",
         "metadata": {},
         "source": [
            "Copyright (c) Dominic O'Kane 2020"
         ]
      },
      {
         "cell_type": "code",
         "execution_count": null,
         "metadata": {},
         "outputs": [],
         "source": []
      }
   ],
   "metadata": {
      "kernelspec": {
         "display_name": "Python 3.8.8 64-bit",
         "language": "python",
         "name": "python3"
      },
      "language_info": {
         "codemirror_mode": {
            "name": "ipython",
            "version": 3
         },
         "file_extension": ".py",
         "mimetype": "text/x-python",
         "name": "python",
         "nbconvert_exporter": "python",
         "pygments_lexer": "ipython3",
         "version": "3.8.8"
      },
      "vscode": {
         "interpreter": {
            "hash": "939480ed579cbcc9bd95c0bb2f0a271d068ec362d36f1415ed941c7dadb52340"
         }
      }
   },
   "nbformat": 4,
   "nbformat_minor": 4
}